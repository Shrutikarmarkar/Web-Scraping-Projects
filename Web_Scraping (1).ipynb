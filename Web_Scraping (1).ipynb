{
  "nbformat": 4,
  "nbformat_minor": 0,
  "metadata": {
    "colab": {
      "provenance": []
    },
    "kernelspec": {
      "name": "python3",
      "display_name": "Python 3"
    },
    "language_info": {
      "name": "python"
    }
  },
  "cells": [
    {
      "cell_type": "code",
      "execution_count": null,
      "metadata": {
        "id": "sX52DUrMOXd8"
      },
      "outputs": [],
      "source": [
        "ai_html = \"\"\"\n",
        "<html>\n",
        "  <head>\n",
        "   <title>\n",
        "     Web Scraping 101 - by aiadventures\n",
        "   </title>\n",
        "  </head>\n",
        "  <body>\n",
        "    <div id=\"course\">\n",
        "      <h3> Courses at\n",
        "        <a href=\"www.aiadventures.in\">aiadventures</a>\n",
        "      </h3>\n",
        "      <ul>\n",
        "        <li>Python</li>\n",
        "        <li>Data Science</li>\n",
        "        <li>Machine Learning</li>\n",
        "        <li>Deep Learning</li>\n",
        "        <li>Computer Vision</li>\n",
        "      </ul>\n",
        "    </div>\n",
        "    <div class=\"follow_us\">\n",
        "      <h3> Follow Us </h3>\n",
        "      <ul>\n",
        "        <li><a href=\"https://www.instagram.com/aiadventures.pune\">Instagram</a></li>\n",
        "        <li><a href=\"https://www.linkedin.com/company/aiadventures\">LinkedIn</a></li>\n",
        "        <li><a href=\"https://medium.com/aiadventures\">Medium</a></li>\n",
        "        <li><a href=\"https://www.youtube.com/channel/UCPZqWUIXZAs926TBRclhUGw\">Youtube</a></li>\n",
        "      </ul>\n",
        "    </div>\n",
        "  </body>\n",
        "</html>\n",
        "\"\"\""
      ]
    },
    {
      "cell_type": "code",
      "source": [
        "from IPython.core.display import display, HTML\n",
        "display(HTML(ai_html))"
      ],
      "metadata": {
        "colab": {
          "base_uri": "https://localhost:8080/",
          "height": 265
        },
        "id": "nP8Et-UqOnzE",
        "outputId": "e4c9969a-6cf5-4870-9419-461ed02ab267"
      },
      "execution_count": null,
      "outputs": [
        {
          "output_type": "display_data",
          "data": {
            "text/plain": [
              "<IPython.core.display.HTML object>"
            ],
            "text/html": [
              "\n",
              "<html>\n",
              "  <head>\n",
              "   <title>\n",
              "     Web Scraping 101 - by aiadventures\n",
              "   </title>\n",
              "  </head>\n",
              "  <body>\n",
              "    <div id=\"course\">\n",
              "      <h3> Courses at\n",
              "        <a href=\"www.aiadventures.in\">aiadventures</a>\n",
              "      </h3>\n",
              "      <ul>\n",
              "        <li>Python</li>\n",
              "        <li>Data Science</li>\n",
              "        <li>Machine Learning</li>\n",
              "        <li>Deep Learning</li>\n",
              "        <li>Computer Vision</li>\n",
              "      </ul>\n",
              "    </div>\n",
              "    <div class=\"follow_us\">\n",
              "      <h3> Follow Us </h3>\n",
              "      <ul>\n",
              "        <li><a href=\"https://www.instagram.com/aiadventures.pune\">Instagram</a></li>\n",
              "        <li><a href=\"https://www.linkedin.com/company/aiadventures\">LinkedIn</a></li>\n",
              "        <li><a href=\"https://medium.com/aiadventures\">Medium</a></li>\n",
              "        <li><a href=\"https://www.youtube.com/channel/UCPZqWUIXZAs926TBRclhUGw\">Youtube</a></li>\n",
              "      </ul>\n",
              "    </div>\n",
              "  </body>\n",
              "</html>\n"
            ]
          },
          "metadata": {}
        }
      ]
    },
    {
      "cell_type": "code",
      "source": [
        "# import the BeautifulSoup Library\n",
        "from bs4 import BeautifulSoup as bs"
      ],
      "metadata": {
        "id": "Li3sIBFwO0g2"
      },
      "execution_count": null,
      "outputs": []
    },
    {
      "cell_type": "code",
      "source": [
        "# create a soup object\n",
        "soup = bs(ai_html)\n",
        "soup"
      ],
      "metadata": {
        "colab": {
          "base_uri": "https://localhost:8080/"
        },
        "id": "3HMUScVePCo0",
        "outputId": "2a8a5403-c381-4425-e102-627fa79e1ca8"
      },
      "execution_count": null,
      "outputs": [
        {
          "output_type": "execute_result",
          "data": {
            "text/plain": [
              "<html>\n",
              "<head>\n",
              "<title>\n",
              "     Web Scraping 101 - by aiadventures\n",
              "   </title>\n",
              "</head>\n",
              "<body>\n",
              "<div id=\"course\">\n",
              "<h3> Courses at\n",
              "        <a href=\"www.aiadventures.in\">aiadventures</a>\n",
              "</h3>\n",
              "<ul>\n",
              "<li>Python</li>\n",
              "<li>Data Science</li>\n",
              "<li>Machine Learning</li>\n",
              "<li>Deep Learning</li>\n",
              "<li>Computer Vision</li>\n",
              "</ul>\n",
              "</div>\n",
              "<div class=\"follow_us\">\n",
              "<h3> Follow Us </h3>\n",
              "<ul>\n",
              "<li><a href=\"https://www.instagram.com/aiadventures.pune\">Instagram</a></li>\n",
              "<li><a href=\"https://www.linkedin.com/company/aiadventures\">LinkedIn</a></li>\n",
              "<li><a href=\"https://medium.com/aiadventures\">Medium</a></li>\n",
              "<li><a href=\"https://www.youtube.com/channel/UCPZqWUIXZAs926TBRclhUGw\">Youtube</a></li>\n",
              "</ul>\n",
              "</div>\n",
              "</body>\n",
              "</html>"
            ]
          },
          "metadata": {},
          "execution_count": 4
        }
      ]
    },
    {
      "cell_type": "markdown",
      "source": [
        "The output looks exactly the same. But under the hood, the complete string has being parsed and organised in the form of a tree, for easy access. For example,"
      ],
      "metadata": {
        "id": "pk5dR2dNPRo6"
      }
    },
    {
      "cell_type": "code",
      "source": [
        "soup.title"
      ],
      "metadata": {
        "colab": {
          "base_uri": "https://localhost:8080/"
        },
        "id": "u9Vbesr7PMkN",
        "outputId": "672de547-8ad5-4bae-bc8b-8f634c7f9ba7"
      },
      "execution_count": null,
      "outputs": [
        {
          "output_type": "execute_result",
          "data": {
            "text/plain": [
              "<title>\n",
              "     Web Scraping 101 - by aiadventures\n",
              "   </title>"
            ]
          },
          "metadata": {},
          "execution_count": 5
        }
      ]
    },
    {
      "cell_type": "code",
      "source": [
        "soup.head"
      ],
      "metadata": {
        "colab": {
          "base_uri": "https://localhost:8080/"
        },
        "id": "Bp4BlH6TPT98",
        "outputId": "b4ff95e4-c04f-45a1-df09-ffbdaebdede8"
      },
      "execution_count": null,
      "outputs": [
        {
          "output_type": "execute_result",
          "data": {
            "text/plain": [
              "<head>\n",
              "<title>\n",
              "     Web Scraping 101 - by aiadventures\n",
              "   </title>\n",
              "</head>"
            ]
          },
          "metadata": {},
          "execution_count": 6
        }
      ]
    },
    {
      "cell_type": "markdown",
      "source": [
        "## Selecting Tags\n",
        "\n",
        "Searching by Tag names"
      ],
      "metadata": {
        "id": "WDCA3llGPbRm"
      }
    },
    {
      "cell_type": "code",
      "source": [
        "soup.find(\"title\")"
      ],
      "metadata": {
        "colab": {
          "base_uri": "https://localhost:8080/"
        },
        "id": "Y7peSUF6PYIT",
        "outputId": "f4c862ff-6387-4472-aeb2-e3469d60bed2"
      },
      "execution_count": null,
      "outputs": [
        {
          "output_type": "execute_result",
          "data": {
            "text/plain": [
              "<title>\n",
              "     Web Scraping 101 - by aiadventures\n",
              "   </title>"
            ]
          },
          "metadata": {},
          "execution_count": 7
        }
      ]
    },
    {
      "cell_type": "markdown",
      "source": [
        "find() only returns the first tag or element"
      ],
      "metadata": {
        "id": "87lbsQHQP4qw"
      }
    },
    {
      "cell_type": "code",
      "source": [
        "soup.find_all(\"div\")"
      ],
      "metadata": {
        "colab": {
          "base_uri": "https://localhost:8080/"
        },
        "id": "acTXSj5NPtmR",
        "outputId": "90804cb9-c595-44cb-ac6b-2bf14fa37274"
      },
      "execution_count": null,
      "outputs": [
        {
          "output_type": "execute_result",
          "data": {
            "text/plain": [
              "[<div id=\"course\">\n",
              " <h3> Courses at\n",
              "         <a href=\"www.aiadventures.in\">aiadventures</a>\n",
              " </h3>\n",
              " <ul>\n",
              " <li>Python</li>\n",
              " <li>Data Science</li>\n",
              " <li>Machine Learning</li>\n",
              " <li>Deep Learning</li>\n",
              " <li>Computer Vision</li>\n",
              " </ul>\n",
              " </div>,\n",
              " <div class=\"follow_us\">\n",
              " <h3> Follow Us </h3>\n",
              " <ul>\n",
              " <li><a href=\"https://www.instagram.com/aiadventures.pune\">Instagram</a></li>\n",
              " <li><a href=\"https://www.linkedin.com/company/aiadventures\">LinkedIn</a></li>\n",
              " <li><a href=\"https://medium.com/aiadventures\">Medium</a></li>\n",
              " <li><a href=\"https://www.youtube.com/channel/UCPZqWUIXZAs926TBRclhUGw\">Youtube</a></li>\n",
              " </ul>\n",
              " </div>]"
            ]
          },
          "metadata": {},
          "execution_count": 8
        }
      ]
    },
    {
      "cell_type": "markdown",
      "source": [
        "find_all() returns a list of all the tags or elements."
      ],
      "metadata": {
        "id": "XIcr3Uv0QIlN"
      }
    },
    {
      "cell_type": "code",
      "source": [
        "soup.find_all([\"h3\",\"ul\"])"
      ],
      "metadata": {
        "colab": {
          "base_uri": "https://localhost:8080/"
        },
        "id": "WvMUBeG0PwHW",
        "outputId": "82619102-214f-4b0d-b86e-3e5b7976940b"
      },
      "execution_count": null,
      "outputs": [
        {
          "output_type": "execute_result",
          "data": {
            "text/plain": [
              "[<h3> Courses at\n",
              "         <a href=\"www.aiadventures.in\">aiadventures</a>\n",
              " </h3>,\n",
              " <ul>\n",
              " <li>Python</li>\n",
              " <li>Data Science</li>\n",
              " <li>Machine Learning</li>\n",
              " <li>Deep Learning</li>\n",
              " <li>Computer Vision</li>\n",
              " </ul>,\n",
              " <h3> Follow Us </h3>,\n",
              " <ul>\n",
              " <li><a href=\"https://www.instagram.com/aiadventures.pune\">Instagram</a></li>\n",
              " <li><a href=\"https://www.linkedin.com/company/aiadventures\">LinkedIn</a></li>\n",
              " <li><a href=\"https://medium.com/aiadventures\">Medium</a></li>\n",
              " <li><a href=\"https://www.youtube.com/channel/UCPZqWUIXZAs926TBRclhUGw\">Youtube</a></li>\n",
              " </ul>]"
            ]
          },
          "metadata": {},
          "execution_count": 9
        }
      ]
    },
    {
      "cell_type": "markdown",
      "source": [
        "Select multiple tags by passing a list of tags to the find_all function"
      ],
      "metadata": {
        "id": "Rl6nZ2c0QkZ9"
      }
    },
    {
      "cell_type": "markdown",
      "source": [
        "## Serching by Tag attributes"
      ],
      "metadata": {
        "id": "Doy_zWS6Qtar"
      }
    },
    {
      "cell_type": "code",
      "source": [
        "soup.find(\"div\",id=\"course\")"
      ],
      "metadata": {
        "colab": {
          "base_uri": "https://localhost:8080/"
        },
        "id": "xl-SrMpTQhF5",
        "outputId": "68ad2903-cf07-4e50-8375-9c7f1804ae66"
      },
      "execution_count": null,
      "outputs": [
        {
          "output_type": "execute_result",
          "data": {
            "text/plain": [
              "<div id=\"course\">\n",
              "<h3> Courses at\n",
              "        <a href=\"www.aiadventures.in\">aiadventures</a>\n",
              "</h3>\n",
              "<ul>\n",
              "<li>Python</li>\n",
              "<li>Data Science</li>\n",
              "<li>Machine Learning</li>\n",
              "<li>Deep Learning</li>\n",
              "<li>Computer Vision</li>\n",
              "</ul>\n",
              "</div>"
            ]
          },
          "metadata": {},
          "execution_count": 10
        }
      ]
    },
    {
      "cell_type": "code",
      "source": [
        "soup.find(\"div\", class_=\"follow_us\")"
      ],
      "metadata": {
        "colab": {
          "base_uri": "https://localhost:8080/"
        },
        "id": "R0y7wleUR9p2",
        "outputId": "360d12ce-7bc4-4dca-afae-1952536439e2"
      },
      "execution_count": null,
      "outputs": [
        {
          "output_type": "execute_result",
          "data": {
            "text/plain": [
              "<div class=\"follow_us\">\n",
              "<h3> Follow Us </h3>\n",
              "<ul>\n",
              "<li><a href=\"https://www.instagram.com/aiadventures.pune\">Instagram</a></li>\n",
              "<li><a href=\"https://www.linkedin.com/company/aiadventures\">LinkedIn</a></li>\n",
              "<li><a href=\"https://medium.com/aiadventures\">Medium</a></li>\n",
              "<li><a href=\"https://www.youtube.com/channel/UCPZqWUIXZAs926TBRclhUGw\">Youtube</a></li>\n",
              "</ul>\n",
              "</div>"
            ]
          },
          "metadata": {},
          "execution_count": 11
        }
      ]
    },
    {
      "cell_type": "code",
      "source": [
        "soup.find('div',id=True)"
      ],
      "metadata": {
        "colab": {
          "base_uri": "https://localhost:8080/"
        },
        "id": "ICzdK-StSyZL",
        "outputId": "27322d99-3ada-43f7-d175-b68f51a1db02"
      },
      "execution_count": null,
      "outputs": [
        {
          "output_type": "execute_result",
          "data": {
            "text/plain": [
              "<div id=\"course\">\n",
              "<h3> Courses at\n",
              "        <a href=\"www.aiadventures.in\">aiadventures</a>\n",
              "</h3>\n",
              "<ul>\n",
              "<li>Python</li>\n",
              "<li>Data Science</li>\n",
              "<li>Machine Learning</li>\n",
              "<li>Deep Learning</li>\n",
              "<li>Computer Vision</li>\n",
              "</ul>\n",
              "</div>"
            ]
          },
          "metadata": {},
          "execution_count": 12
        }
      ]
    },
    {
      "cell_type": "markdown",
      "source": [
        "The above code selects all the \"div\" which has \"id\" attribute"
      ],
      "metadata": {
        "id": "lBmZFR1UTRaf"
      }
    },
    {
      "cell_type": "markdown",
      "source": [
        "## Regular Expressions"
      ],
      "metadata": {
        "id": "8O_lV-iWUt3U"
      }
    },
    {
      "cell_type": "code",
      "source": [
        "import re\n",
        "soup.find(re.compile(\"div\"), class_=re.compile('follow_us'))"
      ],
      "metadata": {
        "colab": {
          "base_uri": "https://localhost:8080/"
        },
        "id": "gbLIm04KTN4M",
        "outputId": "02c483a0-277e-4348-90ce-6e49959c2ed7"
      },
      "execution_count": null,
      "outputs": [
        {
          "output_type": "execute_result",
          "data": {
            "text/plain": [
              "<div class=\"follow_us\">\n",
              "<h3> Follow Us </h3>\n",
              "<ul>\n",
              "<li><a href=\"https://www.instagram.com/aiadventures.pune\">Instagram</a></li>\n",
              "<li><a href=\"https://www.linkedin.com/company/aiadventures\">LinkedIn</a></li>\n",
              "<li><a href=\"https://medium.com/aiadventures\">Medium</a></li>\n",
              "<li><a href=\"https://www.youtube.com/channel/UCPZqWUIXZAs926TBRclhUGw\">Youtube</a></li>\n",
              "</ul>\n",
              "</div>"
            ]
          },
          "metadata": {},
          "execution_count": 13
        }
      ]
    },
    {
      "cell_type": "markdown",
      "source": [
        "## Accessing Information\n",
        "\n",
        "Every tag has 3 major components:\n",
        "\n",
        "1) Tag name\n",
        "\n",
        "2) Text between the open & close tags, called Inner text.\n",
        "\n",
        "3) Tag attributes and its values\n"
      ],
      "metadata": {
        "id": "EP-TX1sbXFHq"
      }
    },
    {
      "cell_type": "code",
      "source": [
        "title_tag = soup.find(\"title\")\n",
        "title_tag"
      ],
      "metadata": {
        "colab": {
          "base_uri": "https://localhost:8080/"
        },
        "id": "K-uYyirzVFqD",
        "outputId": "f759c608-1d37-4420-91e6-9c29a99fb88f"
      },
      "execution_count": null,
      "outputs": [
        {
          "output_type": "execute_result",
          "data": {
            "text/plain": [
              "<title>\n",
              "     Web Scraping 101 - by aiadventures\n",
              "   </title>"
            ]
          },
          "metadata": {},
          "execution_count": 14
        }
      ]
    },
    {
      "cell_type": "markdown",
      "source": [
        "### Tag name"
      ],
      "metadata": {
        "id": "XqIPJ3zEX6ah"
      }
    },
    {
      "cell_type": "code",
      "source": [
        "title_tag.name"
      ],
      "metadata": {
        "colab": {
          "base_uri": "https://localhost:8080/",
          "height": 35
        },
        "id": "2WyffX3CX2eB",
        "outputId": "d357385b-af2d-49cc-fcf7-b4c64384005a"
      },
      "execution_count": null,
      "outputs": [
        {
          "output_type": "execute_result",
          "data": {
            "text/plain": [
              "'title'"
            ],
            "application/vnd.google.colaboratory.intrinsic+json": {
              "type": "string"
            }
          },
          "metadata": {},
          "execution_count": 15
        }
      ]
    },
    {
      "cell_type": "markdown",
      "source": [
        "### Inner text"
      ],
      "metadata": {
        "id": "BVis7A5SYDwL"
      }
    },
    {
      "cell_type": "code",
      "source": [
        "title_tag.text"
      ],
      "metadata": {
        "colab": {
          "base_uri": "https://localhost:8080/",
          "height": 35
        },
        "id": "nnkQ4dAjYBoH",
        "outputId": "aad9eb12-5c12-41c3-e991-59d215e8df56"
      },
      "execution_count": null,
      "outputs": [
        {
          "output_type": "execute_result",
          "data": {
            "text/plain": [
              "'\\n     Web Scraping 101 - by aiadventures\\n   '"
            ],
            "application/vnd.google.colaboratory.intrinsic+json": {
              "type": "string"
            }
          },
          "metadata": {},
          "execution_count": 16
        }
      ]
    },
    {
      "cell_type": "markdown",
      "source": [
        "### Attribute values"
      ],
      "metadata": {
        "id": "AYaz_ilKYMPu"
      }
    },
    {
      "cell_type": "code",
      "source": [
        "a_tag = soup.find('a')\n",
        "a_tag"
      ],
      "metadata": {
        "colab": {
          "base_uri": "https://localhost:8080/"
        },
        "id": "gWb2bhtGYJy8",
        "outputId": "51ff877e-e152-43d2-bb86-e2a093b5e6d2"
      },
      "execution_count": null,
      "outputs": [
        {
          "output_type": "execute_result",
          "data": {
            "text/plain": [
              "<a href=\"www.aiadventures.in\">aiadventures</a>"
            ]
          },
          "metadata": {},
          "execution_count": 17
        }
      ]
    },
    {
      "cell_type": "markdown",
      "source": [
        "Once you have the tag, just think of it as a dictionary. You can easily access any attribute by passing it as a key."
      ],
      "metadata": {
        "id": "lIQUWAhOY33L"
      }
    },
    {
      "cell_type": "code",
      "source": [
        "a_tag['href']"
      ],
      "metadata": {
        "colab": {
          "base_uri": "https://localhost:8080/",
          "height": 35
        },
        "id": "5HmAHsNzYjEc",
        "outputId": "2349634c-1eb5-4b09-8132-7cb63a665fd7"
      },
      "execution_count": null,
      "outputs": [
        {
          "output_type": "execute_result",
          "data": {
            "text/plain": [
              "'www.aiadventures.in'"
            ],
            "application/vnd.google.colaboratory.intrinsic+json": {
              "type": "string"
            }
          },
          "metadata": {},
          "execution_count": 18
        }
      ]
    },
    {
      "cell_type": "markdown",
      "source": [
        "Once you know how to extract attribute values, you can easily extract all the links by running the following code"
      ],
      "metadata": {
        "id": "Wfq-fC54ZtCI"
      }
    },
    {
      "cell_type": "code",
      "source": [
        "[a_tag['href'] for a_tag in soup.find_all('a')]"
      ],
      "metadata": {
        "colab": {
          "base_uri": "https://localhost:8080/"
        },
        "id": "WsQbnqeFZDtn",
        "outputId": "0107a40c-c28e-428a-e16e-dbcb1e4f3169"
      },
      "execution_count": null,
      "outputs": [
        {
          "output_type": "execute_result",
          "data": {
            "text/plain": [
              "['www.aiadventures.in',\n",
              " 'https://www.instagram.com/aiadventures.pune',\n",
              " 'https://www.linkedin.com/company/aiadventures',\n",
              " 'https://medium.com/aiadventures',\n",
              " 'https://www.youtube.com/channel/UCPZqWUIXZAs926TBRclhUGw']"
            ]
          },
          "metadata": {},
          "execution_count": 19
        }
      ]
    },
    {
      "cell_type": "markdown",
      "source": [
        "## Scraping a Real web page"
      ],
      "metadata": {
        "id": "JSbuDGbWn-7i"
      }
    },
    {
      "cell_type": "markdown",
      "source": [
        "Request Library is used to fetch the html code for a web page"
      ],
      "metadata": {
        "id": "X4tdoWEXIjjP"
      }
    },
    {
      "cell_type": "code",
      "source": [
        "import requests"
      ],
      "metadata": {
        "id": "UHvf7aq5IgNJ"
      },
      "execution_count": null,
      "outputs": []
    },
    {
      "cell_type": "code",
      "source": [
        "url = 'http://books.toscrape.com/'\n",
        "response = requests.get(url)\n",
        "response"
      ],
      "metadata": {
        "id": "JFBJ8juGZ4Vw",
        "colab": {
          "base_uri": "https://localhost:8080/"
        },
        "outputId": "5e27a118-d37f-46ab-d741-7d7bf0881d3e"
      },
      "execution_count": null,
      "outputs": [
        {
          "output_type": "execute_result",
          "data": {
            "text/plain": [
              "<Response [200]>"
            ]
          },
          "metadata": {},
          "execution_count": 21
        }
      ]
    },
    {
      "cell_type": "markdown",
      "source": [
        "Now we can successfully access the html code for this web page. Let's look at the top 1000 characters"
      ],
      "metadata": {
        "id": "yDQ9SdhyJKGB"
      }
    },
    {
      "cell_type": "code",
      "source": [
        "print(response.text[:1000])"
      ],
      "metadata": {
        "colab": {
          "base_uri": "https://localhost:8080/"
        },
        "id": "u5AhztL4IZ8f",
        "outputId": "36c4ae83-12b9-4a5f-f72c-0fa8a7c57aa8"
      },
      "execution_count": null,
      "outputs": [
        {
          "output_type": "stream",
          "name": "stdout",
          "text": [
            "<!DOCTYPE html>\n",
            "<!--[if lt IE 7]>      <html lang=\"en-us\" class=\"no-js lt-ie9 lt-ie8 lt-ie7\"> <![endif]-->\n",
            "<!--[if IE 7]>         <html lang=\"en-us\" class=\"no-js lt-ie9 lt-ie8\"> <![endif]-->\n",
            "<!--[if IE 8]>         <html lang=\"en-us\" class=\"no-js lt-ie9\"> <![endif]-->\n",
            "<!--[if gt IE 8]><!--> <html lang=\"en-us\" class=\"no-js\"> <!--<![endif]-->\n",
            "    <head>\n",
            "        <title>\n",
            "    All products | Books to Scrape - Sandbox\n",
            "</title>\n",
            "\n",
            "        <meta http-equiv=\"content-type\" content=\"text/html; charset=UTF-8\" />\n",
            "        <meta name=\"created\" content=\"24th Jun 2016 09:29\" />\n",
            "        <meta name=\"description\" content=\"\" />\n",
            "        <meta name=\"viewport\" content=\"width=device-width\" />\n",
            "        <meta name=\"robots\" content=\"NOARCHIVE,NOCACHE\" />\n",
            "\n",
            "        <!-- Le HTML5 shim, for IE6-8 support of HTML elements -->\n",
            "        <!--[if lt IE 9]>\n",
            "        <script src=\"//html5shim.googlecode.com/svn/trunk/html5.js\"></script>\n",
            "        <![endif]-->\n",
            "\n",
            "        \n",
            "            <link rel=\"shortcut icon\" href=\"static/oscar/favicon.\n"
          ]
        }
      ]
    },
    {
      "cell_type": "code",
      "source": [
        "# type on response text\n",
        "type(response.text)"
      ],
      "metadata": {
        "colab": {
          "base_uri": "https://localhost:8080/"
        },
        "id": "wek5-2HlJV0k",
        "outputId": "37e4ed82-1655-4c2a-cdac-f31812f3a979"
      },
      "execution_count": null,
      "outputs": [
        {
          "output_type": "execute_result",
          "data": {
            "text/plain": [
              "str"
            ]
          },
          "metadata": {},
          "execution_count": 23
        }
      ]
    },
    {
      "cell_type": "markdown",
      "source": [
        "Since, the test is simply a pythin string, i can directly pass it to BeautifulSoup to get the soup object"
      ],
      "metadata": {
        "id": "K3KEVGBdK9Z3"
      }
    },
    {
      "cell_type": "code",
      "source": [
        "soup = bs(response.text)\n",
        "type(soup)"
      ],
      "metadata": {
        "colab": {
          "base_uri": "https://localhost:8080/"
        },
        "id": "l_yrNsShK3j-",
        "outputId": "c485218b-1691-4d38-d9ef-f43be8e40c92"
      },
      "execution_count": null,
      "outputs": [
        {
          "output_type": "execute_result",
          "data": {
            "text/plain": [
              "bs4.BeautifulSoup"
            ]
          },
          "metadata": {},
          "execution_count": 24
        }
      ]
    },
    {
      "cell_type": "markdown",
      "source": [
        "### Site Title"
      ],
      "metadata": {
        "id": "2CSIY-g7L57M"
      }
    },
    {
      "cell_type": "code",
      "source": [
        "soup.find('title').text.strip()"
      ],
      "metadata": {
        "colab": {
          "base_uri": "https://localhost:8080/",
          "height": 35
        },
        "id": "Rof5sFckL2uf",
        "outputId": "f437ef52-f299-4417-84ed-2bdd2744199e"
      },
      "execution_count": null,
      "outputs": [
        {
          "output_type": "execute_result",
          "data": {
            "text/plain": [
              "'All products | Books to Scrape - Sandbox'"
            ],
            "application/vnd.google.colaboratory.intrinsic+json": {
              "type": "string"
            }
          },
          "metadata": {},
          "execution_count": 25
        }
      ]
    },
    {
      "cell_type": "markdown",
      "source": [
        "### Extract Information about the book\n",
        "Its time to inspect all the HTML tag and to identify the book tag so that we can extract information about the books.\n",
        "\n",
        "tag: Article\n",
        "class name = product_pod"
      ],
      "metadata": {
        "id": "g4tz69rINCog"
      }
    },
    {
      "cell_type": "code",
      "source": [
        "books_tag = soup.find_all(\"article\",class_ = \"product_pod\")"
      ],
      "metadata": {
        "id": "e_K1YBFNMAnK"
      },
      "execution_count": null,
      "outputs": []
    },
    {
      "cell_type": "code",
      "source": [
        "# Let's loook at the number of books in the page\n",
        "len(books_tag)"
      ],
      "metadata": {
        "colab": {
          "base_uri": "https://localhost:8080/"
        },
        "id": "XnZtV-ybOA1w",
        "outputId": "a81c9174-a650-41d7-9ee0-20f8d340f203"
      },
      "execution_count": null,
      "outputs": [
        {
          "output_type": "execute_result",
          "data": {
            "text/plain": [
              "20"
            ]
          },
          "metadata": {},
          "execution_count": 27
        }
      ]
    },
    {
      "cell_type": "markdown",
      "source": [
        "There are 20 books in this page\n",
        "\n",
        "Let's try to find out information about a single book"
      ],
      "metadata": {
        "id": "0LmlZa7FOLv6"
      }
    },
    {
      "cell_type": "code",
      "source": [
        "book_tag = books_tag[0]\n",
        "book_tag"
      ],
      "metadata": {
        "colab": {
          "base_uri": "https://localhost:8080/"
        },
        "id": "2oGAWAzyOJZF",
        "outputId": "67de50db-35c5-4731-a372-9abea3eef869"
      },
      "execution_count": null,
      "outputs": [
        {
          "output_type": "execute_result",
          "data": {
            "text/plain": [
              "<article class=\"product_pod\">\n",
              "<div class=\"image_container\">\n",
              "<a href=\"catalogue/a-light-in-the-attic_1000/index.html\"><img alt=\"A Light in the Attic\" class=\"thumbnail\" src=\"media/cache/2c/da/2cdad67c44b002e7ead0cc35693c0e8b.jpg\"/></a>\n",
              "</div>\n",
              "<p class=\"star-rating Three\">\n",
              "<i class=\"icon-star\"></i>\n",
              "<i class=\"icon-star\"></i>\n",
              "<i class=\"icon-star\"></i>\n",
              "<i class=\"icon-star\"></i>\n",
              "<i class=\"icon-star\"></i>\n",
              "</p>\n",
              "<h3><a href=\"catalogue/a-light-in-the-attic_1000/index.html\" title=\"A Light in the Attic\">A Light in the ...</a></h3>\n",
              "<div class=\"product_price\">\n",
              "<p class=\"price_color\">Â£51.77</p>\n",
              "<p class=\"instock availability\">\n",
              "<i class=\"icon-ok\"></i>\n",
              "    \n",
              "        In stock\n",
              "    \n",
              "</p>\n",
              "<form>\n",
              "<button class=\"btn btn-primary btn-block\" data-loading-text=\"Adding...\" type=\"submit\">Add to basket</button>\n",
              "</form>\n",
              "</div>\n",
              "</article>"
            ]
          },
          "metadata": {},
          "execution_count": 28
        }
      ]
    },
    {
      "cell_type": "code",
      "source": [
        "# Book title is under h3, present insdie 'a' tag\n",
        "title_tag = book_tag.find('a',title=True)\n",
        "title_tag"
      ],
      "metadata": {
        "colab": {
          "base_uri": "https://localhost:8080/"
        },
        "id": "RGExOH5VOfKa",
        "outputId": "0a421a55-10bc-4bb6-9791-8f410f06322e"
      },
      "execution_count": null,
      "outputs": [
        {
          "output_type": "execute_result",
          "data": {
            "text/plain": [
              "<a href=\"catalogue/a-light-in-the-attic_1000/index.html\" title=\"A Light in the Attic\">A Light in the ...</a>"
            ]
          },
          "metadata": {},
          "execution_count": 29
        }
      ]
    },
    {
      "cell_type": "code",
      "source": [
        "title_tag['title']"
      ],
      "metadata": {
        "colab": {
          "base_uri": "https://localhost:8080/",
          "height": 35
        },
        "id": "_8cDo-QEPv3V",
        "outputId": "b4bc773d-6438-4e26-ade1-5a697f4056c8"
      },
      "execution_count": null,
      "outputs": [
        {
          "output_type": "execute_result",
          "data": {
            "text/plain": [
              "'A Light in the Attic'"
            ],
            "application/vnd.google.colaboratory.intrinsic+json": {
              "type": "string"
            }
          },
          "metadata": {},
          "execution_count": 30
        }
      ]
    },
    {
      "cell_type": "markdown",
      "source": [
        "Similarly extract ratings, price & book_link."
      ],
      "metadata": {
        "id": "OPQvamXVQl50"
      }
    },
    {
      "cell_type": "code",
      "source": [
        "#rating\n",
        "rating = book_tag.find(\"p\")['class'][1]\n",
        "rating"
      ],
      "metadata": {
        "colab": {
          "base_uri": "https://localhost:8080/",
          "height": 35
        },
        "id": "8DuJZgz7P4p5",
        "outputId": "5cec42c3-9b51-4e2f-8ee6-3bd4e9d03ef7"
      },
      "execution_count": null,
      "outputs": [
        {
          "output_type": "execute_result",
          "data": {
            "text/plain": [
              "'Three'"
            ],
            "application/vnd.google.colaboratory.intrinsic+json": {
              "type": "string"
            }
          },
          "metadata": {},
          "execution_count": 31
        }
      ]
    },
    {
      "cell_type": "code",
      "source": [
        "# Price\n",
        "price = book_tag.find('p',class_=\"price_color\").text[1:]       # It's all just string manipulation\n",
        "price"
      ],
      "metadata": {
        "colab": {
          "base_uri": "https://localhost:8080/",
          "height": 35
        },
        "id": "wBxqfI_mRwEh",
        "outputId": "81366a2e-6d9f-47ce-c40f-19c9eebe0afe"
      },
      "execution_count": null,
      "outputs": [
        {
          "output_type": "execute_result",
          "data": {
            "text/plain": [
              "'£51.77'"
            ],
            "application/vnd.google.colaboratory.intrinsic+json": {
              "type": "string"
            }
          },
          "metadata": {},
          "execution_count": 32
        }
      ]
    },
    {
      "cell_type": "code",
      "source": [
        "#Book_link\n",
        "link = \"http://books.toscrape.com/\" + book_tag.find('a')['href']\n",
        "link"
      ],
      "metadata": {
        "colab": {
          "base_uri": "https://localhost:8080/",
          "height": 35
        },
        "id": "w3owOIpQSZnG",
        "outputId": "a59bfef2-ad23-4de3-b1fc-320d3c1256bc"
      },
      "execution_count": null,
      "outputs": [
        {
          "output_type": "execute_result",
          "data": {
            "text/plain": [
              "'http://books.toscrape.com/catalogue/a-light-in-the-attic_1000/index.html'"
            ],
            "application/vnd.google.colaboratory.intrinsic+json": {
              "type": "string"
            }
          },
          "metadata": {},
          "execution_count": 33
        }
      ]
    },
    {
      "cell_type": "markdown",
      "source": [
        "Create a function to get the above information about all the books by just pasing book_tag as an argument"
      ],
      "metadata": {
        "id": "lTh4NiNbTlQm"
      }
    },
    {
      "cell_type": "code",
      "source": [
        "def get_book_details(book_tag):\n",
        "  title = book_tag.find('a',title=True)['title']\n",
        "  rating = book_tag.find(\"p\")['class'][1]\n",
        "  price = book_tag.find('p',class_=\"price_color\").text[1:]       # It's all just string manipulation\n",
        "  link = \"http://books.toscrape.com/\" + book_tag.find('a')['href']\n",
        "\n",
        "  return title, rating, price, link\n"
      ],
      "metadata": {
        "id": "xBJpPUkFTNck"
      },
      "execution_count": null,
      "outputs": []
    },
    {
      "cell_type": "markdown",
      "source": [
        "### Write some more functions"
      ],
      "metadata": {
        "id": "6yrgqkYUVpdq"
      }
    },
    {
      "cell_type": "code",
      "source": [
        "# get_soup function will take URL and return a soup object\n",
        "def get_soup(url):\n",
        "  resp = requests.get(url)\n",
        "  if resp.status_code == 200:\n",
        "    return bs(resp.text)\n",
        "  else:\n",
        "    return None\n",
        "\n",
        "# get_books function will return information about a book\n",
        "def get_books(url):\n",
        "  soup = get_soup(url)\n",
        "  book_tags = soup.find_all('article',class_='product_pod')\n",
        "\n",
        "  books = []\n",
        "  for book_tag in book_tags:\n",
        "    books.append(get_book_details(book_tag))\n",
        "\n",
        "  return books"
      ],
      "metadata": {
        "id": "WRdhkMYpVpFi"
      },
      "execution_count": null,
      "outputs": []
    },
    {
      "cell_type": "code",
      "source": [
        "url= \"http://books.toscrape.com/\"\n",
        "books = get_books(url)\n",
        "print(f'There are {len(books)} books in this page')"
      ],
      "metadata": {
        "colab": {
          "base_uri": "https://localhost:8080/"
        },
        "id": "-Hi9p6E7UUB-",
        "outputId": "bf0eb5a9-28a4-4261-e857-6c1b6a25942f"
      },
      "execution_count": null,
      "outputs": [
        {
          "output_type": "stream",
          "name": "stdout",
          "text": [
            "There are 20 books in this page\n"
          ]
        }
      ]
    },
    {
      "cell_type": "markdown",
      "source": [
        "Let's have a look at books"
      ],
      "metadata": {
        "id": "nRUGwzFfYt1n"
      }
    },
    {
      "cell_type": "code",
      "source": [
        "books[:3]"
      ],
      "metadata": {
        "colab": {
          "base_uri": "https://localhost:8080/"
        },
        "id": "bksJTHUUX_Or",
        "outputId": "6f9aad4e-fa8e-4c17-baa1-1677187c9380"
      },
      "execution_count": null,
      "outputs": [
        {
          "output_type": "execute_result",
          "data": {
            "text/plain": [
              "[('A Light in the Attic',\n",
              "  'Three',\n",
              "  '£51.77',\n",
              "  'http://books.toscrape.com/catalogue/a-light-in-the-attic_1000/index.html'),\n",
              " ('Tipping the Velvet',\n",
              "  'One',\n",
              "  '£53.74',\n",
              "  'http://books.toscrape.com/catalogue/tipping-the-velvet_999/index.html'),\n",
              " ('Soumission',\n",
              "  'One',\n",
              "  '£50.10',\n",
              "  'http://books.toscrape.com/catalogue/soumission_998/index.html')]"
            ]
          },
          "metadata": {},
          "execution_count": 37
        }
      ]
    },
    {
      "cell_type": "markdown",
      "source": [
        "Now we can make pandas DataFrame that would extract all the 1000 books from the website"
      ],
      "metadata": {
        "id": "uuIFIAPo64c9"
      }
    },
    {
      "cell_type": "code",
      "source": [
        "import pandas as pd\n",
        "\n",
        "def get_all_books(page = 3):\n",
        "    books = []\n",
        "    for i in range(1, page+1):\n",
        "        ## This is how the url changes with every page\n",
        "        url = f'http://books.toscrape.com/catalogue/page-{i}.html'\n",
        "        soup = get_soup(url)\n",
        "        if soup:\n",
        "            book_tags = soup.find_all('article', class_='product_pod')\n",
        "\n",
        "            for book_tag in book_tags:\n",
        "                books.append(get_book_details(book_tag))\n",
        "\n",
        "    books = pd.DataFrame(books, columns=['title', 'rating', 'price', 'link'])\n",
        "    return books"
      ],
      "metadata": {
        "id": "mKpl0QKjYzn1"
      },
      "execution_count": null,
      "outputs": []
    },
    {
      "cell_type": "markdown",
      "source": [
        "Scrape first 3 pages to test our code"
      ],
      "metadata": {
        "id": "__mNh5Zz8tMo"
      }
    },
    {
      "cell_type": "code",
      "source": [
        "df = get_all_books(3)\n",
        "df.head()"
      ],
      "metadata": {
        "colab": {
          "base_uri": "https://localhost:8080/",
          "height": 206
        },
        "id": "QPqHs_208mrJ",
        "outputId": "53d77154-7acc-4ebe-8dea-8b8a3f7d655b"
      },
      "execution_count": null,
      "outputs": [
        {
          "output_type": "execute_result",
          "data": {
            "text/plain": [
              "                                   title rating   price  \\\n",
              "0                   A Light in the Attic  Three  £51.77   \n",
              "1                     Tipping the Velvet    One  £53.74   \n",
              "2                             Soumission    One  £50.10   \n",
              "3                          Sharp Objects   Four  £47.82   \n",
              "4  Sapiens: A Brief History of Humankind   Five  £54.23   \n",
              "\n",
              "                                                link  \n",
              "0  http://books.toscrape.com/a-light-in-the-attic...  \n",
              "1  http://books.toscrape.com/tipping-the-velvet_9...  \n",
              "2  http://books.toscrape.com/soumission_998/index...  \n",
              "3  http://books.toscrape.com/sharp-objects_997/in...  \n",
              "4  http://books.toscrape.com/sapiens-a-brief-hist...  "
            ],
            "text/html": [
              "\n",
              "\n",
              "  <div id=\"df-14877b2d-2285-4ad7-a96e-be2cf4cd3a40\">\n",
              "    <div class=\"colab-df-container\">\n",
              "      <div>\n",
              "<style scoped>\n",
              "    .dataframe tbody tr th:only-of-type {\n",
              "        vertical-align: middle;\n",
              "    }\n",
              "\n",
              "    .dataframe tbody tr th {\n",
              "        vertical-align: top;\n",
              "    }\n",
              "\n",
              "    .dataframe thead th {\n",
              "        text-align: right;\n",
              "    }\n",
              "</style>\n",
              "<table border=\"1\" class=\"dataframe\">\n",
              "  <thead>\n",
              "    <tr style=\"text-align: right;\">\n",
              "      <th></th>\n",
              "      <th>title</th>\n",
              "      <th>rating</th>\n",
              "      <th>price</th>\n",
              "      <th>link</th>\n",
              "    </tr>\n",
              "  </thead>\n",
              "  <tbody>\n",
              "    <tr>\n",
              "      <th>0</th>\n",
              "      <td>A Light in the Attic</td>\n",
              "      <td>Three</td>\n",
              "      <td>£51.77</td>\n",
              "      <td>http://books.toscrape.com/a-light-in-the-attic...</td>\n",
              "    </tr>\n",
              "    <tr>\n",
              "      <th>1</th>\n",
              "      <td>Tipping the Velvet</td>\n",
              "      <td>One</td>\n",
              "      <td>£53.74</td>\n",
              "      <td>http://books.toscrape.com/tipping-the-velvet_9...</td>\n",
              "    </tr>\n",
              "    <tr>\n",
              "      <th>2</th>\n",
              "      <td>Soumission</td>\n",
              "      <td>One</td>\n",
              "      <td>£50.10</td>\n",
              "      <td>http://books.toscrape.com/soumission_998/index...</td>\n",
              "    </tr>\n",
              "    <tr>\n",
              "      <th>3</th>\n",
              "      <td>Sharp Objects</td>\n",
              "      <td>Four</td>\n",
              "      <td>£47.82</td>\n",
              "      <td>http://books.toscrape.com/sharp-objects_997/in...</td>\n",
              "    </tr>\n",
              "    <tr>\n",
              "      <th>4</th>\n",
              "      <td>Sapiens: A Brief History of Humankind</td>\n",
              "      <td>Five</td>\n",
              "      <td>£54.23</td>\n",
              "      <td>http://books.toscrape.com/sapiens-a-brief-hist...</td>\n",
              "    </tr>\n",
              "  </tbody>\n",
              "</table>\n",
              "</div>\n",
              "      <button class=\"colab-df-convert\" onclick=\"convertToInteractive('df-14877b2d-2285-4ad7-a96e-be2cf4cd3a40')\"\n",
              "              title=\"Convert this dataframe to an interactive table.\"\n",
              "              style=\"display:none;\">\n",
              "\n",
              "  <svg xmlns=\"http://www.w3.org/2000/svg\" height=\"24px\"viewBox=\"0 0 24 24\"\n",
              "       width=\"24px\">\n",
              "    <path d=\"M0 0h24v24H0V0z\" fill=\"none\"/>\n",
              "    <path d=\"M18.56 5.44l.94 2.06.94-2.06 2.06-.94-2.06-.94-.94-2.06-.94 2.06-2.06.94zm-11 1L8.5 8.5l.94-2.06 2.06-.94-2.06-.94L8.5 2.5l-.94 2.06-2.06.94zm10 10l.94 2.06.94-2.06 2.06-.94-2.06-.94-.94-2.06-.94 2.06-2.06.94z\"/><path d=\"M17.41 7.96l-1.37-1.37c-.4-.4-.92-.59-1.43-.59-.52 0-1.04.2-1.43.59L10.3 9.45l-7.72 7.72c-.78.78-.78 2.05 0 2.83L4 21.41c.39.39.9.59 1.41.59.51 0 1.02-.2 1.41-.59l7.78-7.78 2.81-2.81c.8-.78.8-2.07 0-2.86zM5.41 20L4 18.59l7.72-7.72 1.47 1.35L5.41 20z\"/>\n",
              "  </svg>\n",
              "      </button>\n",
              "\n",
              "\n",
              "\n",
              "    <div id=\"df-72c0624b-0d5a-49a0-8823-4667b0c52a59\">\n",
              "      <button class=\"colab-df-quickchart\" onclick=\"quickchart('df-72c0624b-0d5a-49a0-8823-4667b0c52a59')\"\n",
              "              title=\"Suggest charts.\"\n",
              "              style=\"display:none;\">\n",
              "\n",
              "<svg xmlns=\"http://www.w3.org/2000/svg\" height=\"24px\"viewBox=\"0 0 24 24\"\n",
              "     width=\"24px\">\n",
              "    <g>\n",
              "        <path d=\"M19 3H5c-1.1 0-2 .9-2 2v14c0 1.1.9 2 2 2h14c1.1 0 2-.9 2-2V5c0-1.1-.9-2-2-2zM9 17H7v-7h2v7zm4 0h-2V7h2v10zm4 0h-2v-4h2v4z\"/>\n",
              "    </g>\n",
              "</svg>\n",
              "      </button>\n",
              "    </div>\n",
              "\n",
              "<style>\n",
              "  .colab-df-quickchart {\n",
              "    background-color: #E8F0FE;\n",
              "    border: none;\n",
              "    border-radius: 50%;\n",
              "    cursor: pointer;\n",
              "    display: none;\n",
              "    fill: #1967D2;\n",
              "    height: 32px;\n",
              "    padding: 0 0 0 0;\n",
              "    width: 32px;\n",
              "  }\n",
              "\n",
              "  .colab-df-quickchart:hover {\n",
              "    background-color: #E2EBFA;\n",
              "    box-shadow: 0px 1px 2px rgba(60, 64, 67, 0.3), 0px 1px 3px 1px rgba(60, 64, 67, 0.15);\n",
              "    fill: #174EA6;\n",
              "  }\n",
              "\n",
              "  [theme=dark] .colab-df-quickchart {\n",
              "    background-color: #3B4455;\n",
              "    fill: #D2E3FC;\n",
              "  }\n",
              "\n",
              "  [theme=dark] .colab-df-quickchart:hover {\n",
              "    background-color: #434B5C;\n",
              "    box-shadow: 0px 1px 3px 1px rgba(0, 0, 0, 0.15);\n",
              "    filter: drop-shadow(0px 1px 2px rgba(0, 0, 0, 0.3));\n",
              "    fill: #FFFFFF;\n",
              "  }\n",
              "</style>\n",
              "\n",
              "    <script>\n",
              "      async function quickchart(key) {\n",
              "        const containerElement = document.querySelector('#' + key);\n",
              "        const charts = await google.colab.kernel.invokeFunction(\n",
              "            'suggestCharts', [key], {});\n",
              "      }\n",
              "    </script>\n",
              "\n",
              "      <script>\n",
              "\n",
              "function displayQuickchartButton(domScope) {\n",
              "  let quickchartButtonEl =\n",
              "    domScope.querySelector('#df-72c0624b-0d5a-49a0-8823-4667b0c52a59 button.colab-df-quickchart');\n",
              "  quickchartButtonEl.style.display =\n",
              "    google.colab.kernel.accessAllowed ? 'block' : 'none';\n",
              "}\n",
              "\n",
              "        displayQuickchartButton(document);\n",
              "      </script>\n",
              "      <style>\n",
              "    .colab-df-container {\n",
              "      display:flex;\n",
              "      flex-wrap:wrap;\n",
              "      gap: 12px;\n",
              "    }\n",
              "\n",
              "    .colab-df-convert {\n",
              "      background-color: #E8F0FE;\n",
              "      border: none;\n",
              "      border-radius: 50%;\n",
              "      cursor: pointer;\n",
              "      display: none;\n",
              "      fill: #1967D2;\n",
              "      height: 32px;\n",
              "      padding: 0 0 0 0;\n",
              "      width: 32px;\n",
              "    }\n",
              "\n",
              "    .colab-df-convert:hover {\n",
              "      background-color: #E2EBFA;\n",
              "      box-shadow: 0px 1px 2px rgba(60, 64, 67, 0.3), 0px 1px 3px 1px rgba(60, 64, 67, 0.15);\n",
              "      fill: #174EA6;\n",
              "    }\n",
              "\n",
              "    [theme=dark] .colab-df-convert {\n",
              "      background-color: #3B4455;\n",
              "      fill: #D2E3FC;\n",
              "    }\n",
              "\n",
              "    [theme=dark] .colab-df-convert:hover {\n",
              "      background-color: #434B5C;\n",
              "      box-shadow: 0px 1px 3px 1px rgba(0, 0, 0, 0.15);\n",
              "      filter: drop-shadow(0px 1px 2px rgba(0, 0, 0, 0.3));\n",
              "      fill: #FFFFFF;\n",
              "    }\n",
              "  </style>\n",
              "\n",
              "      <script>\n",
              "        const buttonEl =\n",
              "          document.querySelector('#df-14877b2d-2285-4ad7-a96e-be2cf4cd3a40 button.colab-df-convert');\n",
              "        buttonEl.style.display =\n",
              "          google.colab.kernel.accessAllowed ? 'block' : 'none';\n",
              "\n",
              "        async function convertToInteractive(key) {\n",
              "          const element = document.querySelector('#df-14877b2d-2285-4ad7-a96e-be2cf4cd3a40');\n",
              "          const dataTable =\n",
              "            await google.colab.kernel.invokeFunction('convertToInteractive',\n",
              "                                                     [key], {});\n",
              "          if (!dataTable) return;\n",
              "\n",
              "          const docLinkHtml = 'Like what you see? Visit the ' +\n",
              "            '<a target=\"_blank\" href=https://colab.research.google.com/notebooks/data_table.ipynb>data table notebook</a>'\n",
              "            + ' to learn more about interactive tables.';\n",
              "          element.innerHTML = '';\n",
              "          dataTable['output_type'] = 'display_data';\n",
              "          await google.colab.output.renderOutput(dataTable, element);\n",
              "          const docLink = document.createElement('div');\n",
              "          docLink.innerHTML = docLinkHtml;\n",
              "          element.appendChild(docLink);\n",
              "        }\n",
              "      </script>\n",
              "    </div>\n",
              "  </div>\n"
            ]
          },
          "metadata": {},
          "execution_count": 39
        }
      ]
    },
    {
      "cell_type": "code",
      "source": [
        "df.shape"
      ],
      "metadata": {
        "colab": {
          "base_uri": "https://localhost:8080/"
        },
        "id": "V7F_2lLZ8155",
        "outputId": "678c5589-eb60-4095-bab7-d059442ea7b0"
      },
      "execution_count": null,
      "outputs": [
        {
          "output_type": "execute_result",
          "data": {
            "text/plain": [
              "(60, 4)"
            ]
          },
          "metadata": {},
          "execution_count": 40
        }
      ]
    },
    {
      "cell_type": "markdown",
      "source": [
        "## FINAL CODE"
      ],
      "metadata": {
        "id": "PUVjf6VX9p7e"
      }
    },
    {
      "cell_type": "code",
      "source": [
        "import time\n",
        "import requests\n",
        "import pandas as pd\n",
        "from bs4 import BeautifulSoup as bs\n",
        "\n",
        "def get_soup(url):\n",
        "    \"\"\"Takes URL and returns a soup object\"\"\"\n",
        "    try:\n",
        "        resp = requests.get(url)\n",
        "    except:\n",
        "        return None\n",
        "\n",
        "    if resp.status_code == 200:\n",
        "        return bs(resp.text)\n",
        "    else:\n",
        "        return None\n",
        "\n",
        "def get_each_book_info(link):\n",
        "  soup = get_soup(link)\n",
        "  if soup:\n",
        "    try:\n",
        "      ## Price exclusive tax\n",
        "      price_exc = soup.find(\"th\",string=\"Price (excl. tax)\").find_next(\"td\").text.strip()[1:]\n",
        "    except:\n",
        "      return None\n",
        "\n",
        "    try:\n",
        "      ## Price inclusive tax\n",
        "      price_incl = soup.find(\"th\",string=\"Price (incl. tax)\").find_next(\"td\").text.strip()[1:]\n",
        "    except:\n",
        "      return None\n",
        "\n",
        "    try:\n",
        "      ## TAX\n",
        "      tax = soup.find(\"th\",string=\"Tax\").find_next(\"td\").text.strip()[1:]\n",
        "    except:\n",
        "      return None\n",
        "\n",
        "    try:\n",
        "      ## Availability\n",
        "      Availability = soup.find(\"th\",string=\"Availability\").find_next(\"td\").text.strip()\n",
        "    except:\n",
        "      return None\n",
        "\n",
        "    try:\n",
        "      ## Number of Reviews\n",
        "      no_reviews = soup.find(\"th\",string=\"Number of reviews\").find_next(\"td\").text.strip()\n",
        "    except:\n",
        "      return None\n",
        "\n",
        "  return price_exc, price_incl, tax, Availability, no_reviews\n",
        "\n",
        "\n",
        "def get_details(book_tag):\n",
        "    ## title\n",
        "    try:\n",
        "        title = book_tag.find('a', title=True)['title']\n",
        "    except:\n",
        "        title = None\n",
        "\n",
        "    ## rating\n",
        "    try:\n",
        "        rating = book_tag.find('p')['class'][1]\n",
        "    except:\n",
        "        rating = None\n",
        "\n",
        "    ## Price\n",
        "    try:\n",
        "        price = book_tag.find('p', class_='price_color').text[1:]\n",
        "    except:\n",
        "        price = None\n",
        "\n",
        "    ## Link\n",
        "    try:\n",
        "        link = 'http://books.toscrape.com/catalogue/' + book_tag.find('a')['href']\n",
        "        price_excl, price_incl, tax, Availability, No_reviews = get_each_book_info(link)\n",
        "\n",
        "    except:\n",
        "        price = None\n",
        "\n",
        "    return title, rating, price, link,price_excl, price_incl, tax, Availability, No_reviews\n",
        "\n",
        "\n",
        "\n",
        "def get_all_books(page = 3):\n",
        "    books = []\n",
        "    for i in range(1, page+1):\n",
        "        url = f'http://books.toscrape.com/catalogue/page-{i}.html'\n",
        "        soup = get_soup(url)\n",
        "        if soup:\n",
        "            try:\n",
        "                book_tags = soup.find_all('article', class_='product_pod')\n",
        "\n",
        "                for book_tag in book_tags:\n",
        "                    books.append(get_details(book_tag))\n",
        "            except:\n",
        "                print(f'Error reading page {i} . . .')\n",
        "\n",
        "            time.sleep(1) # sleep before making the next request\n",
        "\n",
        "    books = pd.DataFrame(books, columns=['title', 'rating', 'price', 'link','price_excl','price_incl','Tax','Availability','No_of_Reviews'])\n",
        "    return books"
      ],
      "metadata": {
        "id": "PufWoLRAosgk"
      },
      "execution_count": null,
      "outputs": []
    },
    {
      "cell_type": "code",
      "source": [
        "df = get_all_books(50)\n",
        "df.head(5)"
      ],
      "metadata": {
        "colab": {
          "base_uri": "https://localhost:8080/",
          "height": 250
        },
        "id": "rvI2H7opUTnc",
        "outputId": "18dcc08d-34d0-4ac1-8341-bba405be3bd5"
      },
      "execution_count": null,
      "outputs": [
        {
          "output_type": "execute_result",
          "data": {
            "text/plain": [
              "                                   title rating   price  \\\n",
              "0                   A Light in the Attic  Three  £51.77   \n",
              "1                     Tipping the Velvet    One  £53.74   \n",
              "2                             Soumission    One  £50.10   \n",
              "3                          Sharp Objects   Four  £47.82   \n",
              "4  Sapiens: A Brief History of Humankind   Five  £54.23   \n",
              "\n",
              "                                                link price_excl price_incl  \\\n",
              "0  http://books.toscrape.com/catalogue/a-light-in...     £51.77     £51.77   \n",
              "1  http://books.toscrape.com/catalogue/tipping-th...     £53.74     £53.74   \n",
              "2  http://books.toscrape.com/catalogue/soumission...     £50.10     £50.10   \n",
              "3  http://books.toscrape.com/catalogue/sharp-obje...     £47.82     £47.82   \n",
              "4  http://books.toscrape.com/catalogue/sapiens-a-...     £54.23     £54.23   \n",
              "\n",
              "     Tax             Availability No_of_Reviews  \n",
              "0  £0.00  In stock (22 available)             0  \n",
              "1  £0.00  In stock (20 available)             0  \n",
              "2  £0.00  In stock (20 available)             0  \n",
              "3  £0.00  In stock (20 available)             0  \n",
              "4  £0.00  In stock (20 available)             0  "
            ],
            "text/html": [
              "\n",
              "\n",
              "  <div id=\"df-14c93a88-986c-4665-b658-fcd47f6b21b7\">\n",
              "    <div class=\"colab-df-container\">\n",
              "      <div>\n",
              "<style scoped>\n",
              "    .dataframe tbody tr th:only-of-type {\n",
              "        vertical-align: middle;\n",
              "    }\n",
              "\n",
              "    .dataframe tbody tr th {\n",
              "        vertical-align: top;\n",
              "    }\n",
              "\n",
              "    .dataframe thead th {\n",
              "        text-align: right;\n",
              "    }\n",
              "</style>\n",
              "<table border=\"1\" class=\"dataframe\">\n",
              "  <thead>\n",
              "    <tr style=\"text-align: right;\">\n",
              "      <th></th>\n",
              "      <th>title</th>\n",
              "      <th>rating</th>\n",
              "      <th>price</th>\n",
              "      <th>link</th>\n",
              "      <th>price_excl</th>\n",
              "      <th>price_incl</th>\n",
              "      <th>Tax</th>\n",
              "      <th>Availability</th>\n",
              "      <th>No_of_Reviews</th>\n",
              "    </tr>\n",
              "  </thead>\n",
              "  <tbody>\n",
              "    <tr>\n",
              "      <th>0</th>\n",
              "      <td>A Light in the Attic</td>\n",
              "      <td>Three</td>\n",
              "      <td>£51.77</td>\n",
              "      <td>http://books.toscrape.com/catalogue/a-light-in...</td>\n",
              "      <td>£51.77</td>\n",
              "      <td>£51.77</td>\n",
              "      <td>£0.00</td>\n",
              "      <td>In stock (22 available)</td>\n",
              "      <td>0</td>\n",
              "    </tr>\n",
              "    <tr>\n",
              "      <th>1</th>\n",
              "      <td>Tipping the Velvet</td>\n",
              "      <td>One</td>\n",
              "      <td>£53.74</td>\n",
              "      <td>http://books.toscrape.com/catalogue/tipping-th...</td>\n",
              "      <td>£53.74</td>\n",
              "      <td>£53.74</td>\n",
              "      <td>£0.00</td>\n",
              "      <td>In stock (20 available)</td>\n",
              "      <td>0</td>\n",
              "    </tr>\n",
              "    <tr>\n",
              "      <th>2</th>\n",
              "      <td>Soumission</td>\n",
              "      <td>One</td>\n",
              "      <td>£50.10</td>\n",
              "      <td>http://books.toscrape.com/catalogue/soumission...</td>\n",
              "      <td>£50.10</td>\n",
              "      <td>£50.10</td>\n",
              "      <td>£0.00</td>\n",
              "      <td>In stock (20 available)</td>\n",
              "      <td>0</td>\n",
              "    </tr>\n",
              "    <tr>\n",
              "      <th>3</th>\n",
              "      <td>Sharp Objects</td>\n",
              "      <td>Four</td>\n",
              "      <td>£47.82</td>\n",
              "      <td>http://books.toscrape.com/catalogue/sharp-obje...</td>\n",
              "      <td>£47.82</td>\n",
              "      <td>£47.82</td>\n",
              "      <td>£0.00</td>\n",
              "      <td>In stock (20 available)</td>\n",
              "      <td>0</td>\n",
              "    </tr>\n",
              "    <tr>\n",
              "      <th>4</th>\n",
              "      <td>Sapiens: A Brief History of Humankind</td>\n",
              "      <td>Five</td>\n",
              "      <td>£54.23</td>\n",
              "      <td>http://books.toscrape.com/catalogue/sapiens-a-...</td>\n",
              "      <td>£54.23</td>\n",
              "      <td>£54.23</td>\n",
              "      <td>£0.00</td>\n",
              "      <td>In stock (20 available)</td>\n",
              "      <td>0</td>\n",
              "    </tr>\n",
              "  </tbody>\n",
              "</table>\n",
              "</div>\n",
              "      <button class=\"colab-df-convert\" onclick=\"convertToInteractive('df-14c93a88-986c-4665-b658-fcd47f6b21b7')\"\n",
              "              title=\"Convert this dataframe to an interactive table.\"\n",
              "              style=\"display:none;\">\n",
              "\n",
              "  <svg xmlns=\"http://www.w3.org/2000/svg\" height=\"24px\"viewBox=\"0 0 24 24\"\n",
              "       width=\"24px\">\n",
              "    <path d=\"M0 0h24v24H0V0z\" fill=\"none\"/>\n",
              "    <path d=\"M18.56 5.44l.94 2.06.94-2.06 2.06-.94-2.06-.94-.94-2.06-.94 2.06-2.06.94zm-11 1L8.5 8.5l.94-2.06 2.06-.94-2.06-.94L8.5 2.5l-.94 2.06-2.06.94zm10 10l.94 2.06.94-2.06 2.06-.94-2.06-.94-.94-2.06-.94 2.06-2.06.94z\"/><path d=\"M17.41 7.96l-1.37-1.37c-.4-.4-.92-.59-1.43-.59-.52 0-1.04.2-1.43.59L10.3 9.45l-7.72 7.72c-.78.78-.78 2.05 0 2.83L4 21.41c.39.39.9.59 1.41.59.51 0 1.02-.2 1.41-.59l7.78-7.78 2.81-2.81c.8-.78.8-2.07 0-2.86zM5.41 20L4 18.59l7.72-7.72 1.47 1.35L5.41 20z\"/>\n",
              "  </svg>\n",
              "      </button>\n",
              "\n",
              "\n",
              "\n",
              "    <div id=\"df-8a7186ce-621d-477e-ba03-920b008c1eea\">\n",
              "      <button class=\"colab-df-quickchart\" onclick=\"quickchart('df-8a7186ce-621d-477e-ba03-920b008c1eea')\"\n",
              "              title=\"Suggest charts.\"\n",
              "              style=\"display:none;\">\n",
              "\n",
              "<svg xmlns=\"http://www.w3.org/2000/svg\" height=\"24px\"viewBox=\"0 0 24 24\"\n",
              "     width=\"24px\">\n",
              "    <g>\n",
              "        <path d=\"M19 3H5c-1.1 0-2 .9-2 2v14c0 1.1.9 2 2 2h14c1.1 0 2-.9 2-2V5c0-1.1-.9-2-2-2zM9 17H7v-7h2v7zm4 0h-2V7h2v10zm4 0h-2v-4h2v4z\"/>\n",
              "    </g>\n",
              "</svg>\n",
              "      </button>\n",
              "    </div>\n",
              "\n",
              "<style>\n",
              "  .colab-df-quickchart {\n",
              "    background-color: #E8F0FE;\n",
              "    border: none;\n",
              "    border-radius: 50%;\n",
              "    cursor: pointer;\n",
              "    display: none;\n",
              "    fill: #1967D2;\n",
              "    height: 32px;\n",
              "    padding: 0 0 0 0;\n",
              "    width: 32px;\n",
              "  }\n",
              "\n",
              "  .colab-df-quickchart:hover {\n",
              "    background-color: #E2EBFA;\n",
              "    box-shadow: 0px 1px 2px rgba(60, 64, 67, 0.3), 0px 1px 3px 1px rgba(60, 64, 67, 0.15);\n",
              "    fill: #174EA6;\n",
              "  }\n",
              "\n",
              "  [theme=dark] .colab-df-quickchart {\n",
              "    background-color: #3B4455;\n",
              "    fill: #D2E3FC;\n",
              "  }\n",
              "\n",
              "  [theme=dark] .colab-df-quickchart:hover {\n",
              "    background-color: #434B5C;\n",
              "    box-shadow: 0px 1px 3px 1px rgba(0, 0, 0, 0.15);\n",
              "    filter: drop-shadow(0px 1px 2px rgba(0, 0, 0, 0.3));\n",
              "    fill: #FFFFFF;\n",
              "  }\n",
              "</style>\n",
              "\n",
              "    <script>\n",
              "      async function quickchart(key) {\n",
              "        const containerElement = document.querySelector('#' + key);\n",
              "        const charts = await google.colab.kernel.invokeFunction(\n",
              "            'suggestCharts', [key], {});\n",
              "      }\n",
              "    </script>\n",
              "\n",
              "      <script>\n",
              "\n",
              "function displayQuickchartButton(domScope) {\n",
              "  let quickchartButtonEl =\n",
              "    domScope.querySelector('#df-8a7186ce-621d-477e-ba03-920b008c1eea button.colab-df-quickchart');\n",
              "  quickchartButtonEl.style.display =\n",
              "    google.colab.kernel.accessAllowed ? 'block' : 'none';\n",
              "}\n",
              "\n",
              "        displayQuickchartButton(document);\n",
              "      </script>\n",
              "      <style>\n",
              "    .colab-df-container {\n",
              "      display:flex;\n",
              "      flex-wrap:wrap;\n",
              "      gap: 12px;\n",
              "    }\n",
              "\n",
              "    .colab-df-convert {\n",
              "      background-color: #E8F0FE;\n",
              "      border: none;\n",
              "      border-radius: 50%;\n",
              "      cursor: pointer;\n",
              "      display: none;\n",
              "      fill: #1967D2;\n",
              "      height: 32px;\n",
              "      padding: 0 0 0 0;\n",
              "      width: 32px;\n",
              "    }\n",
              "\n",
              "    .colab-df-convert:hover {\n",
              "      background-color: #E2EBFA;\n",
              "      box-shadow: 0px 1px 2px rgba(60, 64, 67, 0.3), 0px 1px 3px 1px rgba(60, 64, 67, 0.15);\n",
              "      fill: #174EA6;\n",
              "    }\n",
              "\n",
              "    [theme=dark] .colab-df-convert {\n",
              "      background-color: #3B4455;\n",
              "      fill: #D2E3FC;\n",
              "    }\n",
              "\n",
              "    [theme=dark] .colab-df-convert:hover {\n",
              "      background-color: #434B5C;\n",
              "      box-shadow: 0px 1px 3px 1px rgba(0, 0, 0, 0.15);\n",
              "      filter: drop-shadow(0px 1px 2px rgba(0, 0, 0, 0.3));\n",
              "      fill: #FFFFFF;\n",
              "    }\n",
              "  </style>\n",
              "\n",
              "      <script>\n",
              "        const buttonEl =\n",
              "          document.querySelector('#df-14c93a88-986c-4665-b658-fcd47f6b21b7 button.colab-df-convert');\n",
              "        buttonEl.style.display =\n",
              "          google.colab.kernel.accessAllowed ? 'block' : 'none';\n",
              "\n",
              "        async function convertToInteractive(key) {\n",
              "          const element = document.querySelector('#df-14c93a88-986c-4665-b658-fcd47f6b21b7');\n",
              "          const dataTable =\n",
              "            await google.colab.kernel.invokeFunction('convertToInteractive',\n",
              "                                                     [key], {});\n",
              "          if (!dataTable) return;\n",
              "\n",
              "          const docLinkHtml = 'Like what you see? Visit the ' +\n",
              "            '<a target=\"_blank\" href=https://colab.research.google.com/notebooks/data_table.ipynb>data table notebook</a>'\n",
              "            + ' to learn more about interactive tables.';\n",
              "          element.innerHTML = '';\n",
              "          dataTable['output_type'] = 'display_data';\n",
              "          await google.colab.output.renderOutput(dataTable, element);\n",
              "          const docLink = document.createElement('div');\n",
              "          docLink.innerHTML = docLinkHtml;\n",
              "          element.appendChild(docLink);\n",
              "        }\n",
              "      </script>\n",
              "    </div>\n",
              "  </div>\n"
            ]
          },
          "metadata": {},
          "execution_count": 62
        }
      ]
    },
    {
      "cell_type": "markdown",
      "source": [
        "Now save the DataFrame in the csv format\n",
        "\n"
      ],
      "metadata": {
        "id": "h5W_MA-lXgpM"
      }
    },
    {
      "cell_type": "code",
      "source": [
        "df.to_csv('Books.csv',index=False)"
      ],
      "metadata": {
        "id": "6szA-2qbUXuN"
      },
      "execution_count": null,
      "outputs": []
    },
    {
      "cell_type": "code",
      "source": [],
      "metadata": {
        "id": "3dYhLyy5Xsos"
      },
      "execution_count": null,
      "outputs": []
    }
  ]
}